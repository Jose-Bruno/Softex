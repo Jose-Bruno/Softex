{
  "nbformat": 4,
  "nbformat_minor": 0,
  "metadata": {
    "colab": {
      "name": "CancerMama.ipynb",
      "provenance": [],
      "authorship_tag": "ABX9TyOHjosBTz2d1wrQDG9QZqP+",
      "include_colab_link": true
    },
    "kernelspec": {
      "name": "python3",
      "display_name": "Python 3"
    }
  },
  "cells": [
    {
      "cell_type": "markdown",
      "metadata": {
        "id": "view-in-github",
        "colab_type": "text"
      },
      "source": [
        "<a href=\"https://colab.research.google.com/github/profRCC/Softex/blob/master/CancerMama.ipynb\" target=\"_parent\"><img src=\"https://colab.research.google.com/assets/colab-badge.svg\" alt=\"Open In Colab\"/></a>"
      ]
    },
    {
      "cell_type": "markdown",
      "metadata": {
        "id": "E18bz8cNwLpo",
        "colab_type": "text"
      },
      "source": [
        "## 1. Importar bibliotecas necessárias"
      ]
    },
    {
      "cell_type": "markdown",
      "metadata": {
        "id": "PbWHmpm2wOr6",
        "colab_type": "text"
      },
      "source": [
        "#### Utlizaremos as bibliotecas pandas e numpy para a manipulação dos dados\n",
        "<a href=\"https://medium.com/ensina-ai/entendendo-a-biblioteca-numpy-4858fde63355\">Tutorial Numpy</a>\n",
        "\n",
        "<a href=\"https://medium.com/data-hackers/uma-introdu%C3%A7%C3%A3o-simples-ao-pandas-1e15eea37fa1\">Tutorial Pandas</a>"
      ]
    },
    {
      "cell_type": "code",
      "metadata": {
        "id": "KPZb3j-6vRz_",
        "colab_type": "code",
        "colab": {}
      },
      "source": [
        "# Importando bibliotecas\n",
        "import numpy as np\n",
        "import pandas as pd"
      ],
      "execution_count": 1,
      "outputs": []
    },
    {
      "cell_type": "markdown",
      "metadata": {
        "id": "K1hc2Te0wSZf",
        "colab_type": "text"
      },
      "source": [
        "## 2. Leitura dos dados na memória utilizando a biblioteca Pandas"
      ]
    },
    {
      "cell_type": "markdown",
      "metadata": {
        "id": "c7gVRZ-HwUgs",
        "colab_type": "text"
      },
      "source": [
        "#### Utilizaremos um DataFrame Pandas chamado dados para ler os dados do dataset brest_cancer.csv"
      ]
    },
    {
      "cell_type": "code",
      "metadata": {
        "id": "BeOL1kvKwain",
        "colab_type": "code",
        "colab": {}
      },
      "source": [
        ""
      ],
      "execution_count": null,
      "outputs": []
    }
  ]
}